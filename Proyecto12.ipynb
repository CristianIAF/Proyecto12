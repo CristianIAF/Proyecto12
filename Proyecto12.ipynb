{
  "nbformat": 4,
  "nbformat_minor": 0,
  "metadata": {
    "colab": {
      "provenance": []
    },
    "kernelspec": {
      "name": "python3",
      "display_name": "Python 3"
    },
    "language_info": {
      "name": "python"
    }
  },
  "cells": [
    {
      "cell_type": "markdown",
      "source": [
        "12 - Se realizó una encuesta de mercado para decidir cuál diseño de marca infantil es más atractivo para los niños. Los votos de la encuesta se pueden ver a continuación:\n",
        "\n",
        "Tabla de votos de la marca\n",
        "Diseño 1 - 1334 votos\n",
        "Diseño 2 - 982 votos\n",
        "Diseño 3 - 1751 votos\n",
        "Diseño 4 - 210 votos\n",
        "Diseño 5 - 1811 votos\n",
        "\n",
        "Adapta los datos proporcionados a una estructura de diccionario. A partir de ello, informa el diseño ganador y el porcentaje de votos recibidos."
      ],
      "metadata": {
        "id": "YctUj2rN9dCh"
      }
    },
    {
      "cell_type": "code",
      "source": [
        "# Colocamos los datos proporcionados de los votos de las distintas marcas de diseños en un \"diccionario\":\n",
        "votos = {\n",
        "    'Diseño 1': 1334,\n",
        "    'Diseño 2': 982,\n",
        "    'Diseño 3': 1751,\n",
        "    'Diseño 4': 210,\n",
        "    'Diseño 5': 1811\n",
        "}\n",
        "\n",
        "# Se utiliza max() con el parámetro key=votos.get para obtener el diseño con más votos:\n",
        "diseno_ganador = max(votos, key=votos.get)\n",
        "\n",
        "# El porcentaje se calcula correctamente dividiendo los votos del diseño ganador entre el total de votos y multiplicando por 100:\n",
        "porcentaje_votos = (votos[diseno_ganador] / sum(votos.values())) * 100\n",
        "\n",
        "# Salida del código\n",
        "print(f\"El diseño ganador es: {diseno_ganador}\")\n",
        "print(f\"El porcentaje de votos recibidos es: {porcentaje_votos:.2f} %\")\n"
      ],
      "metadata": {
        "colab": {
          "base_uri": "https://localhost:8080/"
        },
        "id": "qTZ24EHk94n5",
        "outputId": "a3c948e9-98d0-45ad-e468-a9a3503b8844"
      },
      "execution_count": 1,
      "outputs": [
        {
          "output_type": "stream",
          "name": "stdout",
          "text": [
            "El diseño ganador es: Diseño 5\n",
            "El porcentaje de votos recibidos es: 29.75 %\n"
          ]
        }
      ]
    }
  ]
}